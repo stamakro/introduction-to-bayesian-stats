{
 "cells": [
  {
   "cell_type": "code",
   "execution_count": 18,
   "metadata": {},
   "outputs": [],
   "source": [
    "import numpy as np, pandas as pd, matplotlib.pyplot as plt\n",
    "from scipy.stats import multivariate_normal,invwishart,wishart,gaussian_kde\n",
    "\n",
    "# Makes things easier\n",
    "def GetInv(m): return np.linalg.solve(m,np.eye(m.shape[1]))\n",
    "\n",
    "data = pd.read_csv('../reading.csv', index_col=0, names=['pretest','posttest'], header=0)\n",
    "Y = data.values"
   ]
  },
  {
   "cell_type": "code",
   "execution_count": 2,
   "metadata": {},
   "outputs": [],
   "source": [
    "# Set prior parameters\n",
    "np.random.seed(1)\n",
    "mu0 = np.array([50,50])\n",
    "L0 = np.array([[625,312.5],[312.5,625]])\n",
    "nu0 = 4\n",
    "S0 = np.array([[625,312.5],[312.5,625]])\n",
    "\n",
    "n = Y.ndim\n",
    "ybar, sigma = np.mean(Y,axis=0), np.cov(Y,rowvar=False)"
   ]
  },
  {
   "cell_type": "code",
   "execution_count": 3,
   "metadata": {},
   "outputs": [
    {
     "name": "stdout",
     "output_type": "stream",
     "text": [
      "Sampling 0\n",
      "Sampling 1000\n",
      "Sampling 2000\n",
      "Sampling 3000\n",
      "Sampling 4000\n"
     ]
    }
   ],
   "source": [
    "NSim = 5000\n",
    "YSim = np.zeros((NSim,n))\n",
    "thetaSim = np.zeros((NSim,n))\n",
    "sigmaSim = np.zeros((NSim,n,n))\n",
    "for s in range(NSim):\n",
    "    if s % 1000 == 0: print(\"Sampling {}\".format(s))\n",
    "    # Update theta\n",
    "    Ln = GetInv(GetInv(L0) + n*GetInv(sigma))\n",
    "    mun = np.dot(Ln, (np.dot(GetInv(L0),mu0) + n*np.dot(GetInv(sigma),ybar)))\n",
    "    theta = multivariate_normal.rvs(mun,Ln,1)\n",
    "\n",
    "    # Update sigma\n",
    "    Sn = S0 + np.dot((Y-theta).transpose(),(Y-theta))\n",
    "    #sigma = GetInv(wishart.rvs(nu0+n,GetInv(Sn),1))\n",
    "    sigma = invwishart.rvs(nu0+n,GetInv(Sn),1)\n",
    "    YSim[s] = multivariate_normal.rvs(theta,sigma,1)\n",
    "    thetaSim[s],sigmaSim[s] = theta,sigma"
   ]
  },
  {
   "cell_type": "code",
   "execution_count": 14,
   "metadata": {},
   "outputs": [
    {
     "name": "stdout",
     "output_type": "stream",
     "text": [
      "Posterior means: [47.18 53.86]\n"
     ]
    }
   ],
   "source": [
    "print(\"Posterior means: {}\".format(np.around(thetaSim.mean(axis=0), decimals=2)))\n"
   ]
  }
 ],
 "metadata": {
  "kernelspec": {
   "display_name": "Python 3",
   "language": "python",
   "name": "python3"
  },
  "language_info": {
   "codemirror_mode": {
    "name": "ipython",
    "version": 3
   },
   "file_extension": ".py",
   "mimetype": "text/x-python",
   "name": "python",
   "nbconvert_exporter": "python",
   "pygments_lexer": "ipython3",
   "version": "3.7.3"
  }
 },
 "nbformat": 4,
 "nbformat_minor": 2
}
